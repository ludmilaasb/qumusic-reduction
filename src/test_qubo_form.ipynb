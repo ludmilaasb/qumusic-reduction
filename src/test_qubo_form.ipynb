{
 "cells": [
  {
   "cell_type": "code",
   "execution_count": 1,
   "id": "ee094c81",
   "metadata": {},
   "outputs": [],
   "source": [
    "from toolbox import *\n",
    "from music21 import *"
   ]
  },
  {
   "cell_type": "code",
   "execution_count": 2,
   "id": "dee80af6",
   "metadata": {},
   "outputs": [],
   "source": [
    "file = converter.parse('stalker.mid')\n"
   ]
  },
  {
   "cell_type": "code",
   "execution_count": 3,
   "id": "600f211a",
   "metadata": {},
   "outputs": [
    {
     "name": "stdout",
     "output_type": "stream",
     "text": [
      "77\n",
      "73\n",
      "51\n",
      "77\n",
      "77\n",
      "43\n",
      "58\n",
      "77\n",
      "73\n",
      "76\n",
      "77\n",
      "77\n",
      "77\n",
      "77\n",
      "77\n",
      "57\n",
      "77\n"
     ]
    }
   ],
   "source": [
    "# for track in len(file:\n",
    "for i in range(len(file.parts)):\n",
    "    print(len(file.parts[i]))"
   ]
  },
  {
   "cell_type": "code",
   "execution_count": 36,
   "id": "17ab9ab1",
   "metadata": {},
   "outputs": [
    {
     "data": {
      "text/plain": [
       "NoneType"
      ]
     },
     "execution_count": 36,
     "metadata": {},
     "output_type": "execute_result"
    }
   ],
   "source": []
  },
  {
   "cell_type": "code",
   "execution_count": 5,
   "id": "cf097145",
   "metadata": {},
   "outputs": [
    {
     "name": "stdout",
     "output_type": "stream",
     "text": [
      "0.0\n",
      "0.6365141682948128\n",
      "0\n",
      "0\n",
      "0\n",
      "0\n",
      "0\n",
      "0\n",
      "0\n",
      "0\n",
      "0\n",
      "0\n",
      "0.0\n",
      "0\n",
      "0\n",
      "0\n",
      "0\n"
     ]
    }
   ],
   "source": [
    "for part in file.measure(2):\n",
    "    print(get_list_entropy(get_pitches(part)))"
   ]
  },
  {
   "cell_type": "code",
   "execution_count": 14,
   "id": "78e018ce",
   "metadata": {},
   "outputs": [],
   "source": [
    "def get_entropy_from_measure(file,track,measure):\n",
    "    E_p = get_pitches(file.measure(measure).parts[track])\n",
    "    E_r = get_rhythm(file.measure(measure).parts[track])\n",
    "    E_s = get_rests(file.measure(measure).parts[track])\n",
    "    total_entropy = get_list_entropy(E_p) + get_list_entropy(E_r)+ get_list_entropy(E_s)\n",
    "    return total_entropy"
   ]
  },
  {
   "cell_type": "code",
   "execution_count": 15,
   "id": "5e8fd92c",
   "metadata": {},
   "outputs": [
    {
     "data": {
      "text/plain": [
       "1.2730283365896256"
      ]
     },
     "execution_count": 15,
     "metadata": {},
     "output_type": "execute_result"
    }
   ],
   "source": [
    "\n",
    "get_entropy_from_measure(converter.parse('stalker.mid'),1,2)"
   ]
  },
  {
   "cell_type": "code",
   "execution_count": 9,
   "id": "30416386",
   "metadata": {},
   "outputs": [
    {
     "data": {
      "text/plain": [
       "<music21.stream.Part 0x7fb3a99f4850>"
      ]
     },
     "execution_count": 9,
     "metadata": {},
     "output_type": "execute_result"
    }
   ],
   "source": [
    "file.measure(1).parts[2]"
   ]
  },
  {
   "cell_type": "code",
   "execution_count": 50,
   "id": "3ee7f475",
   "metadata": {},
   "outputs": [],
   "source": [
    "from pyqubo import Binary, Constraint\n",
    "\n",
    "\n",
    "def max_num_measures(file):\n",
    "    return max([len(p) for p in file.parts])\n",
    "    \n",
    "\n",
    "def add_measurecountrains_from(file):\n",
    "    H = 0\n",
    "    for j in range(50,max_num_measures(file)):\n",
    "        c = 0 \n",
    "        for i in range(len(file.parts)):\n",
    "#             print(i,j, file.measure(j).parts[i])\n",
    "            if file.parts[i].measure(j) != None:\n",
    "                c += Binary(f\"x_{i}_{j}\")\n",
    "        H += Constraint((2-c)**2, f\"measure_{j}\")\n",
    "    return H\n",
    "        \n",
    "# def qubo_form"
   ]
  },
  {
   "cell_type": "code",
   "execution_count": 51,
   "id": "4a6eb15d",
   "metadata": {},
   "outputs": [
    {
     "data": {
      "text/plain": [
       "(Constraint(label=measure_76,((Binary(x_16_76)+Binary(x_14_76)+Binary(x_13_76)+Binary(x_12_76)+Binary(x_11_76)+Binary(x_10_76)+Binary(x_9_76)+Binary(x_7_76)+Binary(x_4_76)+Binary(x_0_76)+Binary(x_3_76))*Num(-1.000000)+Num(2.000000))*((Binary(x_16_76)+Binary(x_14_76)+Binary(x_13_76)+Binary(x_12_76)+Binary(x_11_76)+Binary(x_10_76)+Binary(x_9_76)+Binary(x_7_76)+Binary(x_4_76)+Binary(x_0_76)+Binary(x_3_76))*Num(-1.000000)+Num(2.000000)))+Constraint(label=measure_75,((Binary(x_16_75)+Binary(x_14_75)+Binary(x_13_75)+Binary(x_12_75)+Binary(x_11_75)+Binary(x_10_75)+Binary(x_9_75)+Binary(x_7_75)+Binary(x_4_75)+Binary(x_0_75)+Binary(x_3_75))*Num(-1.000000)+Num(2.000000))*((Binary(x_16_75)+Binary(x_14_75)+Binary(x_13_75)+Binary(x_12_75)+Binary(x_11_75)+Binary(x_10_75)+Binary(x_9_75)+Binary(x_7_75)+Binary(x_4_75)+Binary(x_0_75)+Binary(x_3_75))*Num(-1.000000)+Num(2.000000)))+Constraint(label=measure_74,((Binary(x_16_74)+Binary(x_14_74)+Binary(x_13_74)+Binary(x_12_74)+Binary(x_11_74)+Binary(x_10_74)+Binary(x_9_74)+Binary(x_7_74)+Binary(x_4_74)+Binary(x_0_74)+Binary(x_3_74))*Num(-1.000000)+Num(2.000000))*((Binary(x_16_74)+Binary(x_14_74)+Binary(x_13_74)+Binary(x_12_74)+Binary(x_11_74)+Binary(x_10_74)+Binary(x_9_74)+Binary(x_7_74)+Binary(x_4_74)+Binary(x_0_74)+Binary(x_3_74))*Num(-1.000000)+Num(2.000000)))+Constraint(label=measure_73,((Binary(x_16_73)+Binary(x_14_73)+Binary(x_13_73)+Binary(x_12_73)+Binary(x_11_73)+Binary(x_10_73)+Binary(x_9_73)+Binary(x_8_73)+Binary(x_7_73)+Binary(x_4_73)+Binary(x_3_73)+Binary(x_0_73)+Binary(x_1_73))*Num(-1.000000)+Num(2.000000))*((Binary(x_16_73)+Binary(x_14_73)+Binary(x_13_73)+Binary(x_12_73)+Binary(x_11_73)+Binary(x_10_73)+Binary(x_9_73)+Binary(x_8_73)+Binary(x_7_73)+Binary(x_4_73)+Binary(x_3_73)+Binary(x_0_73)+Binary(x_1_73))*Num(-1.000000)+Num(2.000000)))+Constraint(label=measure_72,((Binary(x_16_72)+Binary(x_14_72)+Binary(x_13_72)+Binary(x_12_72)+Binary(x_11_72)+Binary(x_10_72)+Binary(x_9_72)+Binary(x_8_72)+Binary(x_7_72)+Binary(x_4_72)+Binary(x_3_72)+Binary(x_0_72)+Binary(x_1_72))*Num(-1.000000)+Num(2.000000))*((Binary(x_16_72)+Binary(x_14_72)+Binary(x_13_72)+Binary(x_12_72)+Binary(x_11_72)+Binary(x_10_72)+Binary(x_9_72)+Binary(x_8_72)+Binary(x_7_72)+Binary(x_4_72)+Binary(x_3_72)+Binary(x_0_72)+Binary(x_1_72))*Num(-1.000000)+Num(2.000000)))+Constraint(label=measure_71,((Binary(x_16_71)+Binary(x_14_71)+Binary(x_13_71)+Binary(x_12_71)+Binary(x_11_71)+Binary(x_10_71)+Binary(x_9_71)+Binary(x_8_71)+Binary(x_7_71)+Binary(x_4_71)+Binary(x_3_71)+Binary(x_0_71)+Binary(x_1_71))*Num(-1.000000)+Num(2.000000))*((Binary(x_16_71)+Binary(x_14_71)+Binary(x_13_71)+Binary(x_12_71)+Binary(x_11_71)+Binary(x_10_71)+Binary(x_9_71)+Binary(x_8_71)+Binary(x_7_71)+Binary(x_4_71)+Binary(x_3_71)+Binary(x_0_71)+Binary(x_1_71))*Num(-1.000000)+Num(2.000000)))+Constraint(label=measure_70,((Binary(x_16_70)+Binary(x_14_70)+Binary(x_13_70)+Binary(x_12_70)+Binary(x_11_70)+Binary(x_10_70)+Binary(x_9_70)+Binary(x_8_70)+Binary(x_7_70)+Binary(x_4_70)+Binary(x_3_70)+Binary(x_0_70)+Binary(x_1_70))*Num(-1.000000)+Num(2.000000))*((Binary(x_16_70)+Binary(x_14_70)+Binary(x_13_70)+Binary(x_12_70)+Binary(x_11_70)+Binary(x_10_70)+Binary(x_9_70)+Binary(x_8_70)+Binary(x_7_70)+Binary(x_4_70)+Binary(x_3_70)+Binary(x_0_70)+Binary(x_1_70))*Num(-1.000000)+Num(2.000000)))+Constraint(label=measure_69,((Binary(x_16_69)+Binary(x_14_69)+Binary(x_13_69)+Binary(x_12_69)+Binary(x_11_69)+Binary(x_10_69)+Binary(x_9_69)+Binary(x_8_69)+Binary(x_7_69)+Binary(x_4_69)+Binary(x_3_69)+Binary(x_0_69)+Binary(x_1_69))*Num(-1.000000)+Num(2.000000))*((Binary(x_16_69)+Binary(x_14_69)+Binary(x_13_69)+Binary(x_12_69)+Binary(x_11_69)+Binary(x_10_69)+Binary(x_9_69)+Binary(x_8_69)+Binary(x_7_69)+Binary(x_4_69)+Binary(x_3_69)+Binary(x_0_69)+Binary(x_1_69))*Num(-1.000000)+Num(2.000000)))+Constraint(label=measure_68,((Binary(x_16_68)+Binary(x_14_68)+Binary(x_13_68)+Binary(x_12_68)+Binary(x_11_68)+Binary(x_10_68)+Binary(x_9_68)+Binary(x_8_68)+Binary(x_7_68)+Binary(x_4_68)+Binary(x_3_68)+Binary(x_0_68)+Binary(x_1_68))*Num(-1.000000)+Num(2.000000))*((Binary(x_16_68)+Binary(x_14_68)+Binary(x_13_68)+Binary(x_12_68)+Binary(x_11_68)+Binary(x_10_68)+Binary(x_9_68)+Binary(x_8_68)+Binary(x_7_68)+Binary(x_4_68)+Binary(x_3_68)+Binary(x_0_68)+Binary(x_1_68))*Num(-1.000000)+Num(2.000000)))+Constraint(label=measure_67,((Binary(x_16_67)+Binary(x_14_67)+Binary(x_13_67)+Binary(x_12_67)+Binary(x_11_67)+Binary(x_10_67)+Binary(x_9_67)+Binary(x_8_67)+Binary(x_7_67)+Binary(x_4_67)+Binary(x_3_67)+Binary(x_0_67)+Binary(x_1_67))*Num(-1.000000)+Num(2.000000))*((Binary(x_16_67)+Binary(x_14_67)+Binary(x_13_67)+Binary(x_12_67)+Binary(x_11_67)+Binary(x_10_67)+Binary(x_9_67)+Binary(x_8_67)+Binary(x_7_67)+Binary(x_4_67)+Binary(x_3_67)+Binary(x_0_67)+Binary(x_1_67))*Num(-1.000000)+Num(2.000000)))+Constraint(label=measure_66,((Binary(x_16_66)+Binary(x_14_66)+Binary(x_13_66)+Binary(x_12_66)+Binary(x_11_66)+Binary(x_10_66)+Binary(x_9_66)+Binary(x_8_66)+Binary(x_7_66)+Binary(x_4_66)+Binary(x_3_66)+Binary(x_0_66)+Binary(x_1_66))*Num(-1.000000)+Num(2.000000))*((Binary(x_16_66)+Binary(x_14_66)+Binary(x_13_66)+Binary(x_12_66)+Binary(x_11_66)+Binary(x_10_66)+Binary(x_9_66)+Binary(x_8_66)+Binary(x_7_66)+Binary(x_4_66)+Binary(x_3_66)+Binary(x_0_66)+Binary(x_1_66))*Num(-1.000000)+Num(2.000000)))+Constraint(label=measure_65,((Binary(x_16_65)+Binary(x_14_65)+Binary(x_13_65)+Binary(x_12_65)+Binary(x_11_65)+Binary(x_10_65)+Binary(x_9_65)+Binary(x_8_65)+Binary(x_7_65)+Binary(x_4_65)+Binary(x_3_65)+Binary(x_0_65)+Binary(x_1_65))*Num(-1.000000)+Num(2.000000))*((Binary(x_16_65)+Binary(x_14_65)+Binary(x_13_65)+Binary(x_12_65)+Binary(x_11_65)+Binary(x_10_65)+Binary(x_9_65)+Binary(x_8_65)+Binary(x_7_65)+Binary(x_4_65)+Binary(x_3_65)+Binary(x_0_65)+Binary(x_1_65))*Num(-1.000000)+Num(2.000000)))+Constraint(label=measure_64,((Binary(x_16_64)+Binary(x_14_64)+Binary(x_13_64)+Binary(x_12_64)+Binary(x_11_64)+Binary(x_10_64)+Binary(x_9_64)+Binary(x_8_64)+Binary(x_7_64)+Binary(x_4_64)+Binary(x_3_64)+Binary(x_0_64)+Binary(x_1_64))*Num(-1.000000)+Num(2.000000))*((Binary(x_16_64)+Binary(x_14_64)+Binary(x_13_64)+Binary(x_12_64)+Binary(x_11_64)+Binary(x_10_64)+Binary(x_9_64)+Binary(x_8_64)+Binary(x_7_64)+Binary(x_4_64)+Binary(x_3_64)+Binary(x_0_64)+Binary(x_1_64))*Num(-1.000000)+Num(2.000000)))+Constraint(label=measure_63,((Binary(x_16_63)+Binary(x_14_63)+Binary(x_13_63)+Binary(x_12_63)+Binary(x_11_63)+Binary(x_10_63)+Binary(x_9_63)+Binary(x_8_63)+Binary(x_7_63)+Binary(x_4_63)+Binary(x_3_63)+Binary(x_0_63)+Binary(x_1_63))*Num(-1.000000)+Num(2.000000))*((Binary(x_16_63)+Binary(x_14_63)+Binary(x_13_63)+Binary(x_12_63)+Binary(x_11_63)+Binary(x_10_63)+Binary(x_9_63)+Binary(x_8_63)+Binary(x_7_63)+Binary(x_4_63)+Binary(x_3_63)+Binary(x_0_63)+Binary(x_1_63))*Num(-1.000000)+Num(2.000000)))+Constraint(label=measure_62,((Binary(x_16_62)+Binary(x_14_62)+Binary(x_13_62)+Binary(x_12_62)+Binary(x_11_62)+Binary(x_10_62)+Binary(x_9_62)+Binary(x_8_62)+Binary(x_7_62)+Binary(x_4_62)+Binary(x_3_62)+Binary(x_0_62)+Binary(x_1_62))*Num(-1.000000)+Num(2.000000))*((Binary(x_16_62)+Binary(x_14_62)+Binary(x_13_62)+Binary(x_12_62)+Binary(x_11_62)+Binary(x_10_62)+Binary(x_9_62)+Binary(x_8_62)+Binary(x_7_62)+Binary(x_4_62)+Binary(x_3_62)+Binary(x_0_62)+Binary(x_1_62))*Num(-1.000000)+Num(2.000000)))+Constraint(label=measure_61,((Binary(x_16_61)+Binary(x_14_61)+Binary(x_13_61)+Binary(x_12_61)+Binary(x_11_61)+Binary(x_10_61)+Binary(x_9_61)+Binary(x_8_61)+Binary(x_7_61)+Binary(x_4_61)+Binary(x_3_61)+Binary(x_0_61)+Binary(x_1_61))*Num(-1.000000)+Num(2.000000))*((Binary(x_16_61)+Binary(x_14_61)+Binary(x_13_61)+Binary(x_12_61)+Binary(x_11_61)+Binary(x_10_61)+Binary(x_9_61)+Binary(x_8_61)+Binary(x_7_61)+Binary(x_4_61)+Binary(x_3_61)+Binary(x_0_61)+Binary(x_1_61))*Num(-1.000000)+Num(2.000000)))+Constraint(label=measure_60,((Binary(x_16_60)+Binary(x_14_60)+Binary(x_13_60)+Binary(x_12_60)+Binary(x_11_60)+Binary(x_10_60)+Binary(x_9_60)+Binary(x_8_60)+Binary(x_7_60)+Binary(x_4_60)+Binary(x_3_60)+Binary(x_0_60)+Binary(x_1_60))*Num(-1.000000)+Num(2.000000))*((Binary(x_16_60)+Binary(x_14_60)+Binary(x_13_60)+Binary(x_12_60)+Binary(x_11_60)+Binary(x_10_60)+Binary(x_9_60)+Binary(x_8_60)+Binary(x_7_60)+Binary(x_4_60)+Binary(x_3_60)+Binary(x_0_60)+Binary(x_1_60))*Num(-1.000000)+Num(2.000000)))+Constraint(label=measure_59,((Binary(x_16_59)+Binary(x_14_59)+Binary(x_13_59)+Binary(x_12_59)+Binary(x_11_59)+Binary(x_10_59)+Binary(x_9_59)+Binary(x_8_59)+Binary(x_7_59)+Binary(x_4_59)+Binary(x_3_59)+Binary(x_0_59)+Binary(x_1_59))*Num(-1.000000)+Num(2.000000))*((Binary(x_16_59)+Binary(x_14_59)+Binary(x_13_59)+Binary(x_12_59)+Binary(x_11_59)+Binary(x_10_59)+Binary(x_9_59)+Binary(x_8_59)+Binary(x_7_59)+Binary(x_4_59)+Binary(x_3_59)+Binary(x_0_59)+Binary(x_1_59))*Num(-1.000000)+Num(2.000000)))+Constraint(label=measure_58,((Binary(x_16_58)+Binary(x_14_58)+Binary(x_13_58)+Binary(x_12_58)+Binary(x_11_58)+Binary(x_10_58)+Binary(x_9_58)+Binary(x_8_58)+Binary(x_7_58)+Binary(x_6_58)+Binary(x_4_58)+Binary(x_3_58)+Binary(x_0_58)+Binary(x_1_58))*Num(-1.000000)+Num(2.000000))*((Binary(x_16_58)+Binary(x_14_58)+Binary(x_13_58)+Binary(x_12_58)+Binary(x_11_58)+Binary(x_10_58)+Binary(x_9_58)+Binary(x_8_58)+Binary(x_7_58)+Binary(x_6_58)+Binary(x_4_58)+Binary(x_3_58)+Binary(x_0_58)+Binary(x_1_58))*Num(-1.000000)+Num(2.000000)))+Constraint(label=measure_57,((Binary(x_16_57)+Binary(x_15_57)+Binary(x_14_57)+Binary(x_13_57)+Binary(x_12_57)+Binary(x_11_57)+Binary(x_10_57)+Binary(x_9_57)+Binary(x_8_57)+Binary(x_7_57)+Binary(x_6_57)+Binary(x_4_57)+Binary(x_3_57)+Binary(x_0_57)+Binary(x_1_57))*Num(-1.000000)+Num(2.000000))*((Binary(x_16_57)+Binary(x_15_57)+Binary(x_14_57)+Binary(x_13_57)+Binary(x_12_57)+Binary(x_11_57)+Binary(x_10_57)+Binary(x_9_57)+Binary(x_8_57)+Binary(x_7_57)+Binary(x_6_57)+Binary(x_4_57)+Binary(x_3_57)+Binary(x_0_57)+Binary(x_1_57))*Num(-1.000000)+Num(2.000000)))+Constraint(label=measure_56,((Binary(x_16_56)+Binary(x_15_56)+Binary(x_14_56)+Binary(x_13_56)+Binary(x_12_56)+Binary(x_11_56)+Binary(x_10_56)+Binary(x_9_56)+Binary(x_8_56)+Binary(x_7_56)+Binary(x_6_56)+Binary(x_4_56)+Binary(x_3_56)+Binary(x_0_56)+Binary(x_1_56))*Num(-1.000000)+Num(2.000000))*((Binary(x_16_56)+Binary(x_15_56)+Binary(x_14_56)+Binary(x_13_56)+Binary(x_12_56)+Binary(x_11_56)+Binary(x_10_56)+Binary(x_9_56)+Binary(x_8_56)+Binary(x_7_56)+Binary(x_6_56)+Binary(x_4_56)+Binary(x_3_56)+Binary(x_0_56)+Binary(x_1_56))*Num(-1.000000)+Num(2.000000)))+Constraint(label=measure_55,((Binary(x_16_55)+Binary(x_15_55)+Binary(x_14_55)+Binary(x_13_55)+Binary(x_12_55)+Binary(x_11_55)+Binary(x_10_55)+Binary(x_9_55)+Binary(x_8_55)+Binary(x_7_55)+Binary(x_6_55)+Binary(x_4_55)+Binary(x_3_55)+Binary(x_0_55)+Binary(x_1_55))*Num(-1.000000)+Num(2.000000))*((Binary(x_16_55)+Binary(x_15_55)+Binary(x_14_55)+Binary(x_13_55)+Binary(x_12_55)+Binary(x_11_55)+Binary(x_10_55)+Binary(x_9_55)+Binary(x_8_55)+Binary(x_7_55)+Binary(x_6_55)+Binary(x_4_55)+Binary(x_3_55)+Binary(x_0_55)+Binary(x_1_55))*Num(-1.000000)+Num(2.000000)))+Constraint(label=measure_54,((Binary(x_16_54)+Binary(x_15_54)+Binary(x_14_54)+Binary(x_13_54)+Binary(x_12_54)+Binary(x_11_54)+Binary(x_10_54)+Binary(x_9_54)+Binary(x_8_54)+Binary(x_7_54)+Binary(x_6_54)+Binary(x_4_54)+Binary(x_3_54)+Binary(x_0_54)+Binary(x_1_54))*Num(-1.000000)+Num(2.000000))*((Binary(x_16_54)+Binary(x_15_54)+Binary(x_14_54)+Binary(x_13_54)+Binary(x_12_54)+Binary(x_11_54)+Binary(x_10_54)+Binary(x_9_54)+Binary(x_8_54)+Binary(x_7_54)+Binary(x_6_54)+Binary(x_4_54)+Binary(x_3_54)+Binary(x_0_54)+Binary(x_1_54))*Num(-1.000000)+Num(2.000000)))+Constraint(label=measure_53,((Binary(x_16_53)+Binary(x_15_53)+Binary(x_14_53)+Binary(x_13_53)+Binary(x_12_53)+Binary(x_11_53)+Binary(x_10_53)+Binary(x_9_53)+Binary(x_8_53)+Binary(x_7_53)+Binary(x_6_53)+Binary(x_4_53)+Binary(x_3_53)+Binary(x_0_53)+Binary(x_1_53))*Num(-1.000000)+Num(2.000000))*((Binary(x_16_53)+Binary(x_15_53)+Binary(x_14_53)+Binary(x_13_53)+Binary(x_12_53)+Binary(x_11_53)+Binary(x_10_53)+Binary(x_9_53)+Binary(x_8_53)+Binary(x_7_53)+Binary(x_6_53)+Binary(x_4_53)+Binary(x_3_53)+Binary(x_0_53)+Binary(x_1_53))*Num(-1.000000)+Num(2.000000)))+Constraint(label=measure_52,((Binary(x_16_52)+Binary(x_15_52)+Binary(x_14_52)+Binary(x_13_52)+Binary(x_12_52)+Binary(x_11_52)+Binary(x_10_52)+Binary(x_9_52)+Binary(x_8_52)+Binary(x_7_52)+Binary(x_6_52)+Binary(x_4_52)+Binary(x_3_52)+Binary(x_0_52)+Binary(x_1_52))*Num(-1.000000)+Num(2.000000))*((Binary(x_16_52)+Binary(x_15_52)+Binary(x_14_52)+Binary(x_13_52)+Binary(x_12_52)+Binary(x_11_52)+Binary(x_10_52)+Binary(x_9_52)+Binary(x_8_52)+Binary(x_7_52)+Binary(x_6_52)+Binary(x_4_52)+Binary(x_3_52)+Binary(x_0_52)+Binary(x_1_52))*Num(-1.000000)+Num(2.000000)))+Constraint(label=measure_50,((Binary(x_16_50)+Binary(x_15_50)+Binary(x_14_50)+Binary(x_13_50)+Binary(x_12_50)+Binary(x_11_50)+Binary(x_10_50)+Binary(x_9_50)+Binary(x_8_50)+Binary(x_7_50)+Binary(x_6_50)+Binary(x_4_50)+Binary(x_3_50)+Binary(x_2_50)+Binary(x_0_50)+Binary(x_1_50))*Num(-1.000000)+Num(2.000000))*((Binary(x_16_50)+Binary(x_15_50)+Binary(x_14_50)+Binary(x_13_50)+Binary(x_12_50)+Binary(x_11_50)+Binary(x_10_50)+Binary(x_9_50)+Binary(x_8_50)+Binary(x_7_50)+Binary(x_6_50)+Binary(x_4_50)+Binary(x_3_50)+Binary(x_2_50)+Binary(x_0_50)+Binary(x_1_50))*Num(-1.000000)+Num(2.000000)))+Constraint(label=measure_51,((Binary(x_16_51)+Binary(x_15_51)+Binary(x_14_51)+Binary(x_13_51)+Binary(x_12_51)+Binary(x_11_51)+Binary(x_10_51)+Binary(x_9_51)+Binary(x_8_51)+Binary(x_7_51)+Binary(x_6_51)+Binary(x_4_51)+Binary(x_3_51)+Binary(x_2_51)+Binary(x_0_51)+Binary(x_1_51))*Num(-1.000000)+Num(2.000000))*((Binary(x_16_51)+Binary(x_15_51)+Binary(x_14_51)+Binary(x_13_51)+Binary(x_12_51)+Binary(x_11_51)+Binary(x_10_51)+Binary(x_9_51)+Binary(x_8_51)+Binary(x_7_51)+Binary(x_6_51)+Binary(x_4_51)+Binary(x_3_51)+Binary(x_2_51)+Binary(x_0_51)+Binary(x_1_51))*Num(-1.000000)+Num(2.000000))))"
      ]
     },
     "execution_count": 51,
     "metadata": {},
     "output_type": "execute_result"
    }
   ],
   "source": [
    "add_countrains_from(file)"
   ]
  },
  {
   "cell_type": "code",
   "execution_count": 39,
   "id": "f0ce574a",
   "metadata": {},
   "outputs": [
    {
     "data": {
      "text/plain": [
       "<music21.stream.Part 0x7fb3a7003c40>"
      ]
     },
     "execution_count": 39,
     "metadata": {},
     "output_type": "execute_result"
    }
   ],
   "source": [
    "file.measure(53).parts[2]"
   ]
  },
  {
   "cell_type": "code",
   "execution_count": 38,
   "id": "5b3ef560",
   "metadata": {},
   "outputs": [],
   "source": [
    "file.parts[2].measure(52)"
   ]
  },
  {
   "cell_type": "code",
   "execution_count": null,
   "id": "93f8ce62",
   "metadata": {},
   "outputs": [],
   "source": []
  }
 ],
 "metadata": {
  "kernelspec": {
   "display_name": "Python 3 (ipykernel)",
   "language": "python",
   "name": "python3"
  },
  "language_info": {
   "codemirror_mode": {
    "name": "ipython",
    "version": 3
   },
   "file_extension": ".py",
   "mimetype": "text/x-python",
   "name": "python",
   "nbconvert_exporter": "python",
   "pygments_lexer": "ipython3",
   "version": "3.8.11"
  }
 },
 "nbformat": 4,
 "nbformat_minor": 5
}

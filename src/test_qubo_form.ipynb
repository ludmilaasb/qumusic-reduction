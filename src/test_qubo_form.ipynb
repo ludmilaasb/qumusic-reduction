{
 "cells": [
  {
   "cell_type": "code",
   "execution_count": 1,
   "id": "c6db4f76",
   "metadata": {},
   "outputs": [],
   "source": [
    "from toolbox import *\n",
    "from music21 import *"
   ]
  },
  {
   "cell_type": "code",
   "execution_count": 2,
   "id": "43edc0da",
   "metadata": {},
   "outputs": [],
   "source": [
    "file = converter.parse('stalker.mid')\n"
   ]
  },
  {
   "cell_type": "code",
   "execution_count": 3,
   "id": "34618ff2",
   "metadata": {},
   "outputs": [
    {
     "data": {
      "text/plain": [
       "<music21.stream.Part 0x7f9514fdb130>"
      ]
     },
     "execution_count": 3,
     "metadata": {},
     "output_type": "execute_result"
    }
   ],
   "source": [
    "file.parts[2].measure(52)\n",
    "file.measure(53).parts[2]"
   ]
  },
  {
   "cell_type": "code",
   "execution_count": 4,
   "id": "78316ab7",
   "metadata": {},
   "outputs": [
    {
     "name": "stdout",
     "output_type": "stream",
     "text": [
      "77\n",
      "73\n",
      "51\n",
      "77\n",
      "77\n",
      "43\n",
      "58\n",
      "77\n",
      "73\n",
      "76\n",
      "77\n",
      "77\n",
      "77\n",
      "77\n",
      "77\n",
      "57\n",
      "77\n"
     ]
    }
   ],
   "source": [
    "# for track in len(file:\n",
    "for i in range(len(file.parts)):\n",
    "    print(len(file.parts[i]))"
   ]
  },
  {
   "cell_type": "code",
   "execution_count": null,
   "id": "4b1e0fa3",
   "metadata": {},
   "outputs": [],
   "source": []
  },
  {
   "cell_type": "code",
   "execution_count": 5,
   "id": "9e320a75",
   "metadata": {},
   "outputs": [
    {
     "name": "stdout",
     "output_type": "stream",
     "text": [
      "0.0\n",
      "0.6365141682948128\n",
      "0\n",
      "0\n",
      "0\n",
      "0\n",
      "0\n",
      "0\n",
      "0\n",
      "0\n",
      "0\n",
      "0\n",
      "0.0\n",
      "0\n",
      "0\n",
      "0\n",
      "0\n"
     ]
    }
   ],
   "source": [
    "for part in file.measure(2):\n",
    "    print(get_list_entropy(get_pitches(part)))"
   ]
  },
  {
   "cell_type": "code",
   "execution_count": 6,
   "id": "79c7bfa7",
   "metadata": {},
   "outputs": [],
   "source": [
    "def get_entropy_from_measure(file,track,measure):\n",
    "    E_p = get_pitches(file.measure(measure).parts[track])\n",
    "    E_r = get_rhythm(file.measure(measure).parts[track])\n",
    "    E_s = get_rests(file.measure(measure).parts[track])\n",
    "    total_entropy = get_list_entropy(E_p) + get_list_entropy(E_r)+ get_list_entropy(E_s)\n",
    "    return total_entropy"
   ]
  },
  {
   "cell_type": "code",
   "execution_count": 7,
   "id": "3d4bd26b",
   "metadata": {},
   "outputs": [
    {
     "data": {
      "text/plain": [
       "1.2730283365896256"
      ]
     },
     "execution_count": 7,
     "metadata": {},
     "output_type": "execute_result"
    }
   ],
   "source": [
    "\n",
    "get_entropy_from_measure(converter.parse('stalker.mid'),1,2)"
   ]
  },
  {
   "cell_type": "code",
   "execution_count": 8,
   "id": "34a9ee25",
   "metadata": {},
   "outputs": [
    {
     "data": {
      "text/plain": [
       "<music21.stream.Part 0x7f9513490160>"
      ]
     },
     "execution_count": 8,
     "metadata": {},
     "output_type": "execute_result"
    }
   ],
   "source": [
    "file.measure(1).parts[2]"
   ]
  },
  {
   "cell_type": "code",
   "execution_count": 9,
   "id": "6be6e85f",
   "metadata": {},
   "outputs": [],
   "source": [
    "from pyqubo import Binary, Constraint\n",
    "\n",
    "def max_num_measures(file):\n",
    "    return max([len(p) for p in file.parts])    \n",
    "\n",
    "def add_measure_qubo_from(file):\n",
    "    H = 0\n",
    "    for j in range(max_num_measures(file)):\n",
    "        c = 0\n",
    "        o = 0\n",
    "        for i in range(len(file.parts)):\n",
    "            if file.parts[i].measure(j) != None:\n",
    "                c += Binary(f\"x_{i}_{j}\")\n",
    "                o += get_entropy_from_measure(file.parts[i].measure(j))*c\n",
    "        H += Constraint((2-c)**2, f\"measure_{j}\") + o\n",
    "    qubo_form = H.compile().to_qubo()\n",
    "    return qubo_form\n",
    "    \n",
    "# def qubo_form"
   ]
  },
  {
   "cell_type": "code",
   "execution_count": 10,
   "id": "c3bf46b3",
   "metadata": {},
   "outputs": [
    {
     "ename": "TypeError",
     "evalue": "__init__(): incompatible constructor arguments. The following argument types are supported:\n    1. cpp_pyqubo.Constraint(hamiltonian: cpp_pyqubo.Base, label: str, condition: Callable[[float], bool] = <built-in method  of PyCapsule object at 0x7f951345bc90>)\n\nInvoked with: 4, 'measure_0'",
     "output_type": "error",
     "traceback": [
      "\u001b[0;31m---------------------------------------------------------------------------\u001b[0m",
      "\u001b[0;31mTypeError\u001b[0m                                 Traceback (most recent call last)",
      "\u001b[0;32m/tmp/ipykernel_2709915/3704828070.py\u001b[0m in \u001b[0;36m<module>\u001b[0;34m\u001b[0m\n\u001b[0;32m----> 1\u001b[0;31m \u001b[0mqubo_form\u001b[0m \u001b[0;34m=\u001b[0m \u001b[0madd_measure_qubo_from\u001b[0m\u001b[0;34m(\u001b[0m\u001b[0mfile\u001b[0m\u001b[0;34m)\u001b[0m\u001b[0;34m\u001b[0m\u001b[0;34m\u001b[0m\u001b[0m\n\u001b[0m",
      "\u001b[0;32m/tmp/ipykernel_2709915/187408675.py\u001b[0m in \u001b[0;36madd_measure_qubo_from\u001b[0;34m(file)\u001b[0m\n\u001b[1;32m     13\u001b[0m                 \u001b[0mc\u001b[0m \u001b[0;34m+=\u001b[0m \u001b[0mBinary\u001b[0m\u001b[0;34m(\u001b[0m\u001b[0;34mf\"x_{i}_{j}\"\u001b[0m\u001b[0;34m)\u001b[0m\u001b[0;34m\u001b[0m\u001b[0;34m\u001b[0m\u001b[0m\n\u001b[1;32m     14\u001b[0m                 \u001b[0mo\u001b[0m \u001b[0;34m+=\u001b[0m \u001b[0mget_entropy_from_measure\u001b[0m\u001b[0;34m(\u001b[0m\u001b[0mfile\u001b[0m\u001b[0;34m.\u001b[0m\u001b[0mparts\u001b[0m\u001b[0;34m[\u001b[0m\u001b[0mi\u001b[0m\u001b[0;34m]\u001b[0m\u001b[0;34m.\u001b[0m\u001b[0mmeasure\u001b[0m\u001b[0;34m(\u001b[0m\u001b[0mj\u001b[0m\u001b[0;34m)\u001b[0m\u001b[0;34m)\u001b[0m\u001b[0;34m*\u001b[0m\u001b[0mc\u001b[0m\u001b[0;34m\u001b[0m\u001b[0;34m\u001b[0m\u001b[0m\n\u001b[0;32m---> 15\u001b[0;31m         \u001b[0mH\u001b[0m \u001b[0;34m+=\u001b[0m \u001b[0mConstraint\u001b[0m\u001b[0;34m(\u001b[0m\u001b[0;34m(\u001b[0m\u001b[0;36m2\u001b[0m\u001b[0;34m-\u001b[0m\u001b[0mc\u001b[0m\u001b[0;34m)\u001b[0m\u001b[0;34m**\u001b[0m\u001b[0;36m2\u001b[0m\u001b[0;34m,\u001b[0m \u001b[0;34mf\"measure_{j}\"\u001b[0m\u001b[0;34m)\u001b[0m \u001b[0;34m+\u001b[0m \u001b[0mo\u001b[0m\u001b[0;34m\u001b[0m\u001b[0;34m\u001b[0m\u001b[0m\n\u001b[0m\u001b[1;32m     16\u001b[0m     \u001b[0mqubo_form\u001b[0m \u001b[0;34m=\u001b[0m \u001b[0mH\u001b[0m\u001b[0;34m.\u001b[0m\u001b[0mcompile\u001b[0m\u001b[0;34m(\u001b[0m\u001b[0;34m)\u001b[0m\u001b[0;34m.\u001b[0m\u001b[0mmodel\u001b[0m\u001b[0;34m.\u001b[0m\u001b[0mto_qubo\u001b[0m\u001b[0;34m(\u001b[0m\u001b[0;34m)\u001b[0m\u001b[0;34m\u001b[0m\u001b[0;34m\u001b[0m\u001b[0m\n\u001b[1;32m     17\u001b[0m     \u001b[0;32mreturn\u001b[0m \u001b[0mqubo_form\u001b[0m\u001b[0;34m\u001b[0m\u001b[0;34m\u001b[0m\u001b[0m\n",
      "\u001b[0;31mTypeError\u001b[0m: __init__(): incompatible constructor arguments. The following argument types are supported:\n    1. cpp_pyqubo.Constraint(hamiltonian: cpp_pyqubo.Base, label: str, condition: Callable[[float], bool] = <built-in method  of PyCapsule object at 0x7f951345bc90>)\n\nInvoked with: 4, 'measure_0'"
     ]
    }
   ],
   "source": [
    "qubo_form = add_measure_qubo_from(file)"
   ]
  },
  {
   "cell_type": "code",
   "execution_count": null,
   "id": "5d6fcb22",
   "metadata": {},
   "outputs": [],
   "source": [
    "print(qubo_form)"
   ]
  },
  {
   "cell_type": "code",
   "execution_count": null,
   "id": "06009bec",
   "metadata": {},
   "outputs": [],
   "source": [
    "from pyqubo import Spin\n",
    "s1, s2, s3, s4 = Spin(\"s1\"), Spin(\"s2\"), Spin(\"s3\"), Spin(\"s4\")\n",
    "H = (4*s1 + 2*s2 + 7*s3 + s4)**2\n",
    "model = H.compile()"
   ]
  },
  {
   "cell_type": "code",
   "execution_count": null,
   "id": "f967f314",
   "metadata": {},
   "outputs": [],
   "source": [
    "qubo, offset = model.to_qubo()"
   ]
  },
  {
   "cell_type": "code",
   "execution_count": null,
   "id": "618d377b",
   "metadata": {},
   "outputs": [],
   "source": [
    "type(qubo)"
   ]
  },
  {
   "cell_type": "code",
   "execution_count": null,
   "id": "8b655fe8",
   "metadata": {},
   "outputs": [],
   "source": []
  },
  {
   "cell_type": "code",
   "execution_count": null,
   "id": "b1a565bf",
   "metadata": {},
   "outputs": [],
   "source": []
  },
  {
   "cell_type": "code",
   "execution_count": null,
   "id": "b1a532b4",
   "metadata": {},
   "outputs": [],
   "source": []
  }
 ],
 "metadata": {
  "kernelspec": {
   "display_name": "Python 3 (ipykernel)",
   "language": "python",
   "name": "python3"
  },
  "language_info": {
   "codemirror_mode": {
    "name": "ipython",
    "version": 3
   },
   "file_extension": ".py",
   "mimetype": "text/x-python",
   "name": "python",
   "nbconvert_exporter": "python",
   "pygments_lexer": "ipython3",
   "version": "3.8.11"
  }
 },
 "nbformat": 4,
 "nbformat_minor": 5
}

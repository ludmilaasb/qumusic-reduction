{
 "cells": [
  {
   "cell_type": "code",
   "execution_count": 2,
   "id": "dc879626",
   "metadata": {},
   "outputs": [],
   "source": [
    "from music21 import converter, corpus, instrument, midi, note, chord, pitch\n"
   ]
  },
  {
   "cell_type": "code",
   "execution_count": 3,
   "id": "ceee70d3",
   "metadata": {},
   "outputs": [],
   "source": [
    "file = converter.parse('stalker.mid')\n",
    "# for part in file:\n",
    "#     print(part)"
   ]
  },
  {
   "cell_type": "code",
   "execution_count": 77,
   "id": "a859128b",
   "metadata": {},
   "outputs": [
    {
     "name": "stdout",
     "output_type": "stream",
     "text": [
      "{0.0} <music21.stream.Measure 1 offset=0.0>\n",
      "    {0.0} <music21.instrument.Bass 'Bass: Bass'>\n",
      "    {0.0} <music21.instrument.FretlessBass 'Fretless Bass'>\n",
      "    {0.0} <music21.clef.BassClef>\n",
      "    {0.0} <music21.tempo.MetronomeMark Quarter=112.0>\n",
      "    {0.0} <music21.key.Key of C major>\n",
      "    {0.0} <music21.meter.TimeSignature 1/4>\n",
      "    {0.0} <music21.note.Rest quarter>\n",
      "{1.0} <music21.stream.Measure 2 offset=1.0>\n",
      "    {0.0} <music21.key.Key of E- major>\n",
      "    {0.0} <music21.meter.TimeSignature 4/4>\n",
      "    {0.0} <music21.note.Rest dotted-quarter>\n",
      "    {1.5} <music21.note.Note F#>\n",
      "    {2.5} <music21.note.Note G>\n",
      "    {3.5} <music21.note.Note F#>\n",
      "{5.0} <music21.stream.Measure 3 offset=5.0>\n",
      "    {0.0} <music21.note.Note F#>\n",
      "    {0.5} <music21.note.Note G>\n",
      "    {1.5} <music21.note.Note F#>\n",
      "    {2.5} <music21.note.Note G>\n",
      "    {3.0} <music21.note.Note E>\n",
      "{9.0} <music21.stream.Measure 4 offset=9.0>\n",
      "    {0.0} <music21.note.Rest dotted-quarter>\n",
      "    {1.5} <music21.note.Note F#>\n",
      "    {2.5} <music21.note.Note G>\n",
      "    {3.5} <music21.note.Note F#>\n",
      "{13.0} <music21.stream.Measure 5 offset=13.0>\n",
      "    {0.0} <music21.note.Note F#>\n",
      "    {0.5} <music21.note.Note G>\n",
      "    {1.5} <music21.note.Note F#>\n",
      "    {2.5} <music21.note.Note G>\n",
      "    {3.0} <music21.note.Note B>\n",
      "    {3.5} <music21.note.Note G>\n",
      "{17.0} <music21.stream.Measure 6 offset=17.0>\n",
      "    {0.0} <music21.note.Rest dotted-quarter>\n",
      "    {1.5} <music21.note.Note F#>\n",
      "    {2.5} <music21.note.Note G>\n",
      "    {3.5} <music21.note.Note F#>\n",
      "{21.0} <music21.stream.Measure 7 offset=21.0>\n",
      "    {0.0} <music21.note.Note F#>\n",
      "    {0.5} <music21.note.Note G>\n",
      "    {1.5} <music21.note.Note F#>\n",
      "    {2.5} <music21.note.Note G>\n",
      "    {3.0} <music21.note.Note E>\n"
     ]
    }
   ],
   "source": [
    "file[1].measures(1,7).show('text')"
   ]
  },
  {
   "cell_type": "code",
   "execution_count": 89,
   "id": "b37ecb86",
   "metadata": {},
   "outputs": [
    {
     "name": "stdout",
     "output_type": "stream",
     "text": [
      "<music21.note.Rest quarter> 0.0 1.0\n",
      "<music21.note.Rest dotted-quarter> 1.0 1.5\n",
      "<music21.note.Rest dotted-quarter> 9.0 1.5\n",
      "<music21.note.Rest dotted-quarter> 17.0 1.5\n"
     ]
    }
   ],
   "source": [
    "for nt in file[1].measures(1,7).flat.getElementsByClass(['Rest']):\n",
    "    print(nt,nt.offset,nt.duration.quarterLength)\n"
   ]
  },
  {
   "cell_type": "code",
   "execution_count": 11,
   "id": "10db146c",
   "metadata": {},
   "outputs": [
    {
     "name": "stdout",
     "output_type": "stream",
     "text": [
      "<music21.note.Note F#>\n",
      "78.0\n",
      "<music21.note.Note F#>\n",
      "78.0\n",
      "<music21.note.Note F#>\n",
      "78.0\n",
      "<music21.note.Note F#>\n",
      "78.0\n",
      "<music21.chord.Chord F#4 F#5>\n",
      "78.0\n",
      "<music21.chord.Chord F#4 F#5>\n",
      "78.0\n"
     ]
    }
   ],
   "source": [
    "for nt in file[0].measures(1,7).flat.getElementsByClass(['Note','Chord']):\n",
    "    print(nt)\n",
    "    print(nt.pitches[-1].ps)"
   ]
  },
  {
   "cell_type": "code",
   "execution_count": 7,
   "id": "f4707d4d",
   "metadata": {},
   "outputs": [
    {
     "name": "stdout",
     "output_type": "stream",
     "text": [
      "[<music21.note.Rest quarter>, <music21.note.Note F#>, <music21.note.Note F#>, <music21.note.Note F#>, <music21.note.Note F#>, <music21.chord.Chord F#4 F#5>, <music21.chord.Chord F#4 F#5>]\n"
     ]
    }
   ],
   "source": [
    "a = []\n",
    "for thisNote in file[0].measures(1,7).flat.getElementsByClass(['Note', 'Rest','Chord']):\n",
    "    a.append(thisNote)\n",
    "print(a)"
   ]
  },
  {
   "cell_type": "code",
   "execution_count": null,
   "id": "7d2218fc",
   "metadata": {},
   "outputs": [],
   "source": []
  },
  {
   "cell_type": "code",
   "execution_count": 8,
   "id": "3651e26e",
   "metadata": {},
   "outputs": [
    {
     "data": {
      "image/png": "[encoded data removed]",
      "text/plain": [
       "<IPython.core.display.Image object>"
      ]
     },
     "metadata": {
      "image/png": {
       "height": 61,
       "width": 748
      }
     },
     "output_type": "display_data"
    }
   ],
   "source": [
    "file[0].measures(1,7).show()"
   ]
  },
  {
   "cell_type": "code",
   "execution_count": 9,
   "id": "eb372885",
   "metadata": {},
   "outputs": [
    {
     "data": {
      "text/plain": [
       "((<music21.pitch.Pitch F#4>, <music21.pitch.Pitch F#5>), 1.0)"
      ]
     },
     "execution_count": 9,
     "metadata": {},
     "output_type": "execute_result"
    }
   ],
   "source": [
    "a[-1].pitches,a[-1].duration.quarterLength/4"
   ]
  },
  {
   "cell_type": "code",
   "execution_count": 20,
   "id": "2f40d624",
   "metadata": {},
   "outputs": [
    {
     "name": "stdout",
     "output_type": "stream",
     "text": [
      "0.25\n",
      "1.0\n",
      "1.0\n",
      "1.0\n",
      "1.0\n",
      "1.0\n",
      "1.0\n",
      "1.0\n",
      "1.0\n",
      "1.0\n",
      "1.0\n",
      "1.0\n",
      "1.0\n",
      "1.0\n",
      "1.0\n",
      "1.0\n",
      "1.0\n",
      "1.0\n",
      "1.0\n",
      "1.0\n",
      "1.0\n",
      "1.0\n",
      "1.0\n",
      "1.0\n",
      "1.0\n",
      "1.0\n",
      "1.0\n",
      "1.0\n",
      "1.0\n",
      "0.25\n",
      "0.25\n",
      "0.25\n"
     ]
    }
   ],
   "source": [
    " for nt in file[0].flat.getElementsByClass(['Rest']):\n",
    "        print(nt.duration.quarterLength/4)"
   ]
  },
  {
   "cell_type": "code",
   "execution_count": 66,
   "id": "3cc49d74",
   "metadata": {},
   "outputs": [
    {
     "data": {
      "text/plain": [
       "[42.0,\n",
       " 43.0,\n",
       " 42.0,\n",
       " 42.0,\n",
       " 43.0,\n",
       " 42.0,\n",
       " 43.0,\n",
       " 40.0,\n",
       " 42.0,\n",
       " 43.0,\n",
       " 42.0,\n",
       " 42.0,\n",
       " 43.0,\n",
       " 42.0,\n",
       " 43.0,\n",
       " 47.0,\n",
       " 43.0,\n",
       " 42.0,\n",
       " 43.0,\n",
       " 42.0,\n",
       " 42.0,\n",
       " 43.0,\n",
       " 42.0,\n",
       " 43.0,\n",
       " 40.0]"
      ]
     },
     "execution_count": 66,
     "metadata": {},
     "output_type": "execute_result"
    }
   ],
   "source": [
    "import numpy as np\n",
    "def get_pitches(phrase):\n",
    "    pitches_list = []\n",
    "    for nt in phrase.flat.getElementsByClass(['Note','Chord']):\n",
    "        pitches_list.append(nt.pitches[-1].ps)\n",
    "    return pitches_list\n",
    "\n",
    "phrase = file[1].measures(1,7)\n",
    "pitches_list = get_pitches(phrase)\n",
    "pitches_list"
   ]
  },
  {
   "cell_type": "code",
   "execution_count": 71,
   "id": "912ef358",
   "metadata": {},
   "outputs": [],
   "source": [
    "num_pitches = len(pitches_list)\n",
    "unique,counts = np.unique(pitches_list,return_counts=True)\n",
    "# dict(zip(unique, counts/num_pitches))\n",
    "pitch_entropy = [-p*np.log(p) for p in counts/num_pitches]"
   ]
  },
  {
   "cell_type": "code",
   "execution_count": 75,
   "id": "65131982",
   "metadata": {},
   "outputs": [
    {
     "data": {
      "text/plain": [
       "1.0496348213275466"
      ]
     },
     "execution_count": 75,
     "metadata": {},
     "output_type": "execute_result"
    }
   ],
   "source": [
    "sum(pitch_entropy)"
   ]
  },
  {
   "cell_type": "code",
   "execution_count": null,
   "id": "5a3730ec",
   "metadata": {},
   "outputs": [],
   "source": []
  }
 ],
 "metadata": {
  "kernelspec": {
   "display_name": "Python 3 (ipykernel)",
   "language": "python",
   "name": "python3"
  },
  "language_info": {
   "codemirror_mode": {
    "name": "ipython",
    "version": 3
   },
   "file_extension": ".py",
   "mimetype": "text/x-python",
   "name": "python",
   "nbconvert_exporter": "python",
   "pygments_lexer": "ipython3",
   "version": "3.8.11"
  }
 },
 "nbformat": 4,
 "nbformat_minor": 5
}
